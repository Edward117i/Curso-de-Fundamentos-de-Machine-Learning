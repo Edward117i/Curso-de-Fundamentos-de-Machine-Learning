{
 "cells": [
  {
   "cell_type": "code",
   "execution_count": 2,
   "id": "fdd797c2",
   "metadata": {},
   "outputs": [],
   "source": [
    "import torch                              # 1. PyTorch principal.\n",
    "import torch.nn as nn                     # 2. Módulos de redes (capas, funciones de activación…).\n",
    "import torch.optim as optim               # 3. Optimizadores (Adam, SGD…).\n",
    "import numpy as np                        # 4. Para datos de ejemplo."
   ]
  },
  {
   "cell_type": "code",
   "execution_count": 3,
   "id": "c7b353c1",
   "metadata": {},
   "outputs": [],
   "source": [
    "# 1. Creamos datos aleatorios con NumPy\n",
    "X_np = np.random.rand(100, 4).astype(np.float32)   # 100×4 entradas, float32 para PyTorch\n",
    "y_np = np.random.randint(0, 2, size=(100,)).astype(np.int64)  # 100 etiquetas binarias\n",
    "\n",
    "# 2. Convertimos a tensores de PyTorch\n",
    "X = torch.from_numpy(X_np)     # Tensor de tamaño [100, 4]\n",
    "y = torch.from_numpy(y_np)     # Tensor de tamaño [100]"
   ]
  }
 ],
 "metadata": {
  "kernelspec": {
   "display_name": "Fundamentos_MachineLearning",
   "language": "python",
   "name": "python3"
  },
  "language_info": {
   "codemirror_mode": {
    "name": "ipython",
    "version": 3
   },
   "file_extension": ".py",
   "mimetype": "text/x-python",
   "name": "python",
   "nbconvert_exporter": "python",
   "pygments_lexer": "ipython3",
   "version": "3.11.13"
  }
 },
 "nbformat": 4,
 "nbformat_minor": 5
}
