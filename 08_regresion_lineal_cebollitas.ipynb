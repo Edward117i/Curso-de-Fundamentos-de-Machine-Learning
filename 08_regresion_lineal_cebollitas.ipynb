{
 "cells": [
  {
   "cell_type": "code",
   "execution_count": 1,
   "id": "f0ef15c9",
   "metadata": {},
   "outputs": [
    {
     "name": "stdout",
     "output_type": "stream",
     "text": [
      "Número de partidos disponibles: 44\n"
     ]
    }
   ],
   "source": [
    "import pandas as pd\n",
    "from sklearn.model_selection import train_test_split\n",
    "\n",
    "#Cargar el dataset\n",
    "df_partidos = pd.read_csv('partidos_cebollitas.csv')\n",
    "\n",
    "# Filtrar partidos donde Cebollitas FC juegue como local O visitante\n",
    "df_partidos = df_partidos[\n",
    "    (df_partidos['equipo_local'] == 'Cebollitas FC') |\n",
    "    (df_partidos['equipo_visitante'] == 'Cebollitas FC')\n",
    "]\n",
    "\n",
    "print(f\"Número de partidos disponibles: {len(df_partidos)}\")\n",
    "\n",
    "#Crear variable objetivo\n",
    "df_partidos['diferencia_goles'] = df_partidos['goles_local'] - df_partidos['goles_visitante']\n",
    "\n",
    "#Variables predictoras\n",
    "X = df_partidos[['posesion_local (%)', 'tiros_arco_local']]\n",
    "y = df_partidos['diferencia_goles']\n",
    "\n",
    "#Dividir el dataset en conjunto de entrenamiento y prueba\n",
    "X_train, X_test, y_train, y_test = train_test_split(X, y, test_size=0.2, random_state=42)"
   ]
  },
  {
   "cell_type": "code",
   "execution_count": 2,
   "id": "9be201dc",
   "metadata": {},
   "outputs": [
    {
     "name": "stdout",
     "output_type": "stream",
     "text": [
      "Modelo de regresión lineal entrenado con éxito.\n"
     ]
    }
   ],
   "source": [
    "from sklearn.linear_model import LinearRegression\n",
    "\n",
    "#Instanciar y entrenar el modelo\n",
    "mode_rl = LinearRegression()\n",
    "mode_rl.fit(X_train, y_train)\n",
    "\n",
    "print(\"Modelo de regresión lineal entrenado con éxito.\")"
   ]
  },
  {
   "cell_type": "code",
   "execution_count": 3,
   "id": "89dede55",
   "metadata": {},
   "outputs": [
    {
     "name": "stdout",
     "output_type": "stream",
     "text": [
      "Intercepto: -5.3834402473148995\n",
      "Coeficientes: [ 0.14032761 -0.18235423]\n",
      "Si aumento 1 unidad en posesion_local (%), la diferencia de goles esperada es 0.14\n",
      "Si aumento 1 unidad en tiros_arco_local, la diferencia de goles esperada es -0.18\n"
     ]
    }
   ],
   "source": [
    "#Mostrar coeficientes \n",
    "print(f\"Intercepto: {mode_rl.intercept_}\")\n",
    "print(f\"Coeficientes: {mode_rl.coef_}\")\n",
    "\n",
    "#Intercepto amigable\n",
    "for idx, col_name in enumerate(X.columns):\n",
    "    print(f\"Si aumento 1 unidad en {col_name}, la diferencia de goles esperada es {mode_rl.coef_[idx]:.2f}\")"
   ]
  },
  {
   "cell_type": "code",
   "execution_count": 4,
   "id": "a2c3e192",
   "metadata": {},
   "outputs": [
    {
     "data": {
      "text/html": [
       "<div>\n",
       "<style scoped>\n",
       "    .dataframe tbody tr th:only-of-type {\n",
       "        vertical-align: middle;\n",
       "    }\n",
       "\n",
       "    .dataframe tbody tr th {\n",
       "        vertical-align: top;\n",
       "    }\n",
       "\n",
       "    .dataframe thead th {\n",
       "        text-align: right;\n",
       "    }\n",
       "</style>\n",
       "<table border=\"1\" class=\"dataframe\">\n",
       "  <thead>\n",
       "    <tr style=\"text-align: right;\">\n",
       "      <th></th>\n",
       "      <th>posesion_local (%)</th>\n",
       "      <th>tiros_arco_local</th>\n",
       "      <th>diferencia_goles_real</th>\n",
       "      <th>diferencia_goles_predicha</th>\n",
       "    </tr>\n",
       "  </thead>\n",
       "  <tbody>\n",
       "    <tr>\n",
       "      <th>89</th>\n",
       "      <td>41</td>\n",
       "      <td>5</td>\n",
       "      <td>0</td>\n",
       "      <td>-0.54</td>\n",
       "    </tr>\n",
       "    <tr>\n",
       "      <th>55</th>\n",
       "      <td>51</td>\n",
       "      <td>6</td>\n",
       "      <td>-1</td>\n",
       "      <td>0.68</td>\n",
       "    </tr>\n",
       "    <tr>\n",
       "      <th>58</th>\n",
       "      <td>42</td>\n",
       "      <td>10</td>\n",
       "      <td>0</td>\n",
       "      <td>-1.31</td>\n",
       "    </tr>\n",
       "    <tr>\n",
       "      <th>88</th>\n",
       "      <td>54</td>\n",
       "      <td>9</td>\n",
       "      <td>-2</td>\n",
       "      <td>0.55</td>\n",
       "    </tr>\n",
       "    <tr>\n",
       "      <th>83</th>\n",
       "      <td>47</td>\n",
       "      <td>3</td>\n",
       "      <td>3</td>\n",
       "      <td>0.66</td>\n",
       "    </tr>\n",
       "  </tbody>\n",
       "</table>\n",
       "</div>"
      ],
      "text/plain": [
       "    posesion_local (%)  tiros_arco_local  diferencia_goles_real  \\\n",
       "89                  41                 5                      0   \n",
       "55                  51                 6                     -1   \n",
       "58                  42                10                      0   \n",
       "88                  54                 9                     -2   \n",
       "83                  47                 3                      3   \n",
       "\n",
       "    diferencia_goles_predicha  \n",
       "89                      -0.54  \n",
       "55                       0.68  \n",
       "58                      -1.31  \n",
       "88                       0.55  \n",
       "83                       0.66  "
      ]
     },
     "execution_count": 4,
     "metadata": {},
     "output_type": "execute_result"
    }
   ],
   "source": [
    "#Hacer predicciones\n",
    "y_pred = mode_rl.predict(X_test)\n",
    "\n",
    "#Comparar predicciones vs valores reales\n",
    "df_resultados = X_test.copy()\n",
    "df_resultados['diferencia_goles_real'] = y_test\n",
    "df_resultados['diferencia_goles_predicha'] = y_pred.round(2)\n",
    "\n",
    "df_resultados.head()"
   ]
  },
  {
   "cell_type": "code",
   "execution_count": 5,
   "id": "1c62772b",
   "metadata": {},
   "outputs": [
    {
     "data": {
      "image/png": "[encoded data removed]",
      "text/plain": [
       "<Figure size 1000x600 with 1 Axes>"
      ]
     },
     "metadata": {},
     "output_type": "display_data"
    }
   ],
   "source": [
    "import matplotlib.pyplot as plt\n",
    "import seaborn as sns\n",
    "\n",
    "#Crear gráfico de dispersión\n",
    "plt.figure(figsize=(10,6))\n",
    "sns.scatterplot(x=y_test, y=y_pred)\n",
    "plt.xlabel('Diferencia de Goles Real')\n",
    "plt.ylabel('Diferencia de Goles Predicha')\n",
    "plt.title('Predicciones vs Valores Reales')\n",
    "plt.plot([-10, 10], [-10, 10], color='red', linestyle='--')  # Línea de referencia\n",
    "plt.xlim(-10, 10)\n",
    "plt.ylim(-10, 10)\n",
    "plt.show()"
   ]
  },
  {
   "cell_type": "code",
   "execution_count": 6,
   "id": "62fae2ae",
   "metadata": {},
   "outputs": [
    {
     "data": {
      "application/vnd.jupyter.widget-view+json": {
       "model_id": "d82ded85893b4509bd567cf8babd75e5",
       "version_major": 2,
       "version_minor": 0
      },
      "text/plain": [
       "interactive(children=(FloatSlider(value=50.0, description='Posesión Local (%)', step=1.0), IntSlider(value=5, …"
      ]
     },
     "metadata": {},
     "output_type": "display_data"
    }
   ],
   "source": [
    "import ipywidgets as widgets\n",
    "\n",
    "#wigets para entrada de usuario\n",
    "posesion_input = widgets.FloatSlider(value=50, min=0, max=100, step=1, description='Posesión Local (%)')\n",
    "tiros_arco_input = widgets.IntSlider(value=5, min=0, max=30, step=1, description='Tiros a Arco Local')\n",
    "\n",
    "#Funcion de predicción\n",
    "def predecir_diferencia_goles(posesion, tiros_arco):\n",
    "    input_data = pd.DataFrame({\n",
    "        'posesion_local (%)': [posesion],\n",
    "        'tiros_arco_local': [tiros_arco]\n",
    "    })\n",
    "    prediccion = mode_rl.predict(input_data)\n",
    "    print(f\"Diferencia de goles predicha para Cebollitas FC: {prediccion[0]:.2f}\")\n",
    "    \n",
    "#Mostrar widgets \n",
    "widgets.interact(predecir_diferencia_goles, posesion=posesion_input, tiros_arco=tiros_arco_input);"
   ]
  }
 ],
 "metadata": {
  "kernelspec": {
   "display_name": "Fundamentos_MachineLearning",
   "language": "python",
   "name": "python3"
  },
  "language_info": {
   "codemirror_mode": {
    "name": "ipython",
    "version": 3
   },
   "file_extension": ".py",
   "mimetype": "text/x-python",
   "name": "python",
   "nbconvert_exporter": "python",
   "pygments_lexer": "ipython3",
   "version": "3.11.13"
  }
 },
 "nbformat": 4,
 "nbformat_minor": 5
}
